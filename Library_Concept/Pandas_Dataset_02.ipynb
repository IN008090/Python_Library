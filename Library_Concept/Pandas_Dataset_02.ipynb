{
 "cells": [
  {
   "cell_type": "markdown",
   "id": "5dc48d57",
   "metadata": {},
   "source": [
    " ## Topic covered in Pandas\n",
    " + Creating DataFrames\n",
    " + Dealing with rows & column\n",
    " + Operation:Min,Max,std,describe\n",
    " + Conditional selection\n",
    " + set index"
   ]
  },
  {
   "cell_type": "code",
   "execution_count": 1,
   "id": "2987f157",
   "metadata": {},
   "outputs": [
    {
     "data": {
      "text/html": [
       "<div>\n",
       "<style scoped>\n",
       "    .dataframe tbody tr th:only-of-type {\n",
       "        vertical-align: middle;\n",
       "    }\n",
       "\n",
       "    .dataframe tbody tr th {\n",
       "        vertical-align: top;\n",
       "    }\n",
       "\n",
       "    .dataframe thead th {\n",
       "        text-align: right;\n",
       "    }\n",
       "</style>\n",
       "<table border=\"1\" class=\"dataframe\">\n",
       "  <thead>\n",
       "    <tr style=\"text-align: right;\">\n",
       "      <th></th>\n",
       "      <th>serial_no</th>\n",
       "      <th>First_name</th>\n",
       "      <th>Place</th>\n",
       "      <th>Job_Id</th>\n",
       "      <th>Temperature</th>\n",
       "    </tr>\n",
       "  </thead>\n",
       "  <tbody>\n",
       "    <tr>\n",
       "      <th>0</th>\n",
       "      <td>1</td>\n",
       "      <td>Shivani</td>\n",
       "      <td>New Delhi</td>\n",
       "      <td>IN005626</td>\n",
       "      <td>80.2</td>\n",
       "    </tr>\n",
       "    <tr>\n",
       "      <th>1</th>\n",
       "      <td>2</td>\n",
       "      <td>Shraddha</td>\n",
       "      <td>Mumbai</td>\n",
       "      <td>IN006366</td>\n",
       "      <td>92</td>\n",
       "    </tr>\n",
       "    <tr>\n",
       "      <th>2</th>\n",
       "      <td>3</td>\n",
       "      <td>sita</td>\n",
       "      <td>Greater kalash</td>\n",
       "      <td>IN006336</td>\n",
       "      <td>87</td>\n",
       "    </tr>\n",
       "    <tr>\n",
       "      <th>3</th>\n",
       "      <td>4</td>\n",
       "      <td>shivam</td>\n",
       "      <td>Indore</td>\n",
       "      <td>IN005616</td>\n",
       "      <td>85</td>\n",
       "    </tr>\n",
       "    <tr>\n",
       "      <th>4</th>\n",
       "      <td>5</td>\n",
       "      <td>sunny</td>\n",
       "      <td>Haldwani</td>\n",
       "      <td>IN006366</td>\n",
       "      <td>79</td>\n",
       "    </tr>\n",
       "    <tr>\n",
       "      <th>5</th>\n",
       "      <td>6</td>\n",
       "      <td>radhika</td>\n",
       "      <td>Kanpur</td>\n",
       "      <td>IN006111</td>\n",
       "      <td>98</td>\n",
       "    </tr>\n",
       "  </tbody>\n",
       "</table>\n",
       "</div>"
      ],
      "text/plain": [
       "  serial_no First_name           Place    Job_Id Temperature\n",
       "0         1    Shivani       New Delhi  IN005626        80.2\n",
       "1         2   Shraddha          Mumbai  IN006366          92\n",
       "2         3       sita  Greater kalash  IN006336          87\n",
       "3         4     shivam          Indore  IN005616          85\n",
       "4         5      sunny        Haldwani  IN006366          79\n",
       "5         6    radhika          Kanpur  IN006111          98"
      ]
     },
     "execution_count": 1,
     "metadata": {},
     "output_type": "execute_result"
    }
   ],
   "source": [
    "import pandas as pd # Creating the DataFrame using dict function\n",
    "Tabular_set={\n",
    "    'serial_no':['1','2','3','4','5','6'],\n",
    "    'First_name':['Shivani','Shraddha','sita','shivam','sunny','radhika'],\n",
    "    'Place':['New Delhi','Mumbai','Greater kalash','Indore','Haldwani','Kanpur'],\n",
    "    'Job_Id':['IN005626','IN006366','IN006336','IN005616','IN006366','IN006111'],\n",
    "    'Temperature':['80.2','92','87','85','79','98']\n",
    "              }\n",
    "df=pd.DataFrame(Tabular_set)\n",
    "df"
   ]
  },
  {
   "cell_type": "code",
   "execution_count": 2,
   "id": "d2b0e067",
   "metadata": {},
   "outputs": [
    {
     "data": {
      "text/plain": [
       "(6, 5)"
      ]
     },
     "execution_count": 2,
     "metadata": {},
     "output_type": "execute_result"
    }
   ],
   "source": [
    "df.shape   # This shows the no of rows and column "
   ]
  },
  {
   "cell_type": "code",
   "execution_count": 3,
   "id": "7029b584",
   "metadata": {},
   "outputs": [],
   "source": [
    "rows , columns = df.shape  # This code helps to saves the rows and column  when you type row or column it will show the result"
   ]
  },
  {
   "cell_type": "code",
   "execution_count": 4,
   "id": "d6090f9a",
   "metadata": {},
   "outputs": [
    {
     "data": {
      "text/plain": [
       "6"
      ]
     },
     "execution_count": 4,
     "metadata": {},
     "output_type": "execute_result"
    }
   ],
   "source": [
    "rows"
   ]
  },
  {
   "cell_type": "code",
   "execution_count": 5,
   "id": "95a5e50a",
   "metadata": {},
   "outputs": [
    {
     "data": {
      "text/plain": [
       "5"
      ]
     },
     "execution_count": 5,
     "metadata": {},
     "output_type": "execute_result"
    }
   ],
   "source": [
    "columns"
   ]
  },
  {
   "cell_type": "code",
   "execution_count": 6,
   "id": "6d6adafa",
   "metadata": {},
   "outputs": [
    {
     "data": {
      "text/html": [
       "<div>\n",
       "<style scoped>\n",
       "    .dataframe tbody tr th:only-of-type {\n",
       "        vertical-align: middle;\n",
       "    }\n",
       "\n",
       "    .dataframe tbody tr th {\n",
       "        vertical-align: top;\n",
       "    }\n",
       "\n",
       "    .dataframe thead th {\n",
       "        text-align: right;\n",
       "    }\n",
       "</style>\n",
       "<table border=\"1\" class=\"dataframe\">\n",
       "  <thead>\n",
       "    <tr style=\"text-align: right;\">\n",
       "      <th></th>\n",
       "      <th>serial_no</th>\n",
       "      <th>First_name</th>\n",
       "      <th>Place</th>\n",
       "      <th>Job_Id</th>\n",
       "      <th>Temperature</th>\n",
       "    </tr>\n",
       "  </thead>\n",
       "  <tbody>\n",
       "    <tr>\n",
       "      <th>0</th>\n",
       "      <td>1</td>\n",
       "      <td>Shivani</td>\n",
       "      <td>New Delhi</td>\n",
       "      <td>IN005626</td>\n",
       "      <td>80.2</td>\n",
       "    </tr>\n",
       "    <tr>\n",
       "      <th>1</th>\n",
       "      <td>2</td>\n",
       "      <td>Shraddha</td>\n",
       "      <td>Mumbai</td>\n",
       "      <td>IN006366</td>\n",
       "      <td>92</td>\n",
       "    </tr>\n",
       "    <tr>\n",
       "      <th>2</th>\n",
       "      <td>3</td>\n",
       "      <td>sita</td>\n",
       "      <td>Greater kalash</td>\n",
       "      <td>IN006336</td>\n",
       "      <td>87</td>\n",
       "    </tr>\n",
       "    <tr>\n",
       "      <th>3</th>\n",
       "      <td>4</td>\n",
       "      <td>shivam</td>\n",
       "      <td>Indore</td>\n",
       "      <td>IN005616</td>\n",
       "      <td>85</td>\n",
       "    </tr>\n",
       "    <tr>\n",
       "      <th>4</th>\n",
       "      <td>5</td>\n",
       "      <td>sunny</td>\n",
       "      <td>Haldwani</td>\n",
       "      <td>IN006366</td>\n",
       "      <td>79</td>\n",
       "    </tr>\n",
       "  </tbody>\n",
       "</table>\n",
       "</div>"
      ],
      "text/plain": [
       "  serial_no First_name           Place    Job_Id Temperature\n",
       "0         1    Shivani       New Delhi  IN005626        80.2\n",
       "1         2   Shraddha          Mumbai  IN006366          92\n",
       "2         3       sita  Greater kalash  IN006336          87\n",
       "3         4     shivam          Indore  IN005616          85\n",
       "4         5      sunny        Haldwani  IN006366          79"
      ]
     },
     "execution_count": 6,
     "metadata": {},
     "output_type": "execute_result"
    }
   ],
   "source": [
    "df.head()    # This print only few dataset not entire dataset "
   ]
  },
  {
   "cell_type": "code",
   "execution_count": 7,
   "id": "b3cb7334",
   "metadata": {},
   "outputs": [
    {
     "data": {
      "text/html": [
       "<div>\n",
       "<style scoped>\n",
       "    .dataframe tbody tr th:only-of-type {\n",
       "        vertical-align: middle;\n",
       "    }\n",
       "\n",
       "    .dataframe tbody tr th {\n",
       "        vertical-align: top;\n",
       "    }\n",
       "\n",
       "    .dataframe thead th {\n",
       "        text-align: right;\n",
       "    }\n",
       "</style>\n",
       "<table border=\"1\" class=\"dataframe\">\n",
       "  <thead>\n",
       "    <tr style=\"text-align: right;\">\n",
       "      <th></th>\n",
       "      <th>serial_no</th>\n",
       "      <th>First_name</th>\n",
       "      <th>Place</th>\n",
       "      <th>Job_Id</th>\n",
       "      <th>Temperature</th>\n",
       "    </tr>\n",
       "  </thead>\n",
       "  <tbody>\n",
       "    <tr>\n",
       "      <th>0</th>\n",
       "      <td>1</td>\n",
       "      <td>Shivani</td>\n",
       "      <td>New Delhi</td>\n",
       "      <td>IN005626</td>\n",
       "      <td>80.2</td>\n",
       "    </tr>\n",
       "    <tr>\n",
       "      <th>1</th>\n",
       "      <td>2</td>\n",
       "      <td>Shraddha</td>\n",
       "      <td>Mumbai</td>\n",
       "      <td>IN006366</td>\n",
       "      <td>92</td>\n",
       "    </tr>\n",
       "    <tr>\n",
       "      <th>2</th>\n",
       "      <td>3</td>\n",
       "      <td>sita</td>\n",
       "      <td>Greater kalash</td>\n",
       "      <td>IN006336</td>\n",
       "      <td>87</td>\n",
       "    </tr>\n",
       "  </tbody>\n",
       "</table>\n",
       "</div>"
      ],
      "text/plain": [
       "  serial_no First_name           Place    Job_Id Temperature\n",
       "0         1    Shivani       New Delhi  IN005626        80.2\n",
       "1         2   Shraddha          Mumbai  IN006366          92\n",
       "2         3       sita  Greater kalash  IN006336          87"
      ]
     },
     "execution_count": 7,
     "metadata": {},
     "output_type": "execute_result"
    }
   ],
   "source": [
    "df.head(3)   # This helps to print only defined rows which you mentioned in the head()"
   ]
  },
  {
   "cell_type": "code",
   "execution_count": 8,
   "id": "716433c2",
   "metadata": {},
   "outputs": [
    {
     "data": {
      "text/html": [
       "<div>\n",
       "<style scoped>\n",
       "    .dataframe tbody tr th:only-of-type {\n",
       "        vertical-align: middle;\n",
       "    }\n",
       "\n",
       "    .dataframe tbody tr th {\n",
       "        vertical-align: top;\n",
       "    }\n",
       "\n",
       "    .dataframe thead th {\n",
       "        text-align: right;\n",
       "    }\n",
       "</style>\n",
       "<table border=\"1\" class=\"dataframe\">\n",
       "  <thead>\n",
       "    <tr style=\"text-align: right;\">\n",
       "      <th></th>\n",
       "      <th>serial_no</th>\n",
       "      <th>First_name</th>\n",
       "      <th>Place</th>\n",
       "      <th>Job_Id</th>\n",
       "      <th>Temperature</th>\n",
       "    </tr>\n",
       "  </thead>\n",
       "  <tbody>\n",
       "    <tr>\n",
       "      <th>1</th>\n",
       "      <td>2</td>\n",
       "      <td>Shraddha</td>\n",
       "      <td>Mumbai</td>\n",
       "      <td>IN006366</td>\n",
       "      <td>92</td>\n",
       "    </tr>\n",
       "    <tr>\n",
       "      <th>2</th>\n",
       "      <td>3</td>\n",
       "      <td>sita</td>\n",
       "      <td>Greater kalash</td>\n",
       "      <td>IN006336</td>\n",
       "      <td>87</td>\n",
       "    </tr>\n",
       "    <tr>\n",
       "      <th>3</th>\n",
       "      <td>4</td>\n",
       "      <td>shivam</td>\n",
       "      <td>Indore</td>\n",
       "      <td>IN005616</td>\n",
       "      <td>85</td>\n",
       "    </tr>\n",
       "    <tr>\n",
       "      <th>4</th>\n",
       "      <td>5</td>\n",
       "      <td>sunny</td>\n",
       "      <td>Haldwani</td>\n",
       "      <td>IN006366</td>\n",
       "      <td>79</td>\n",
       "    </tr>\n",
       "    <tr>\n",
       "      <th>5</th>\n",
       "      <td>6</td>\n",
       "      <td>radhika</td>\n",
       "      <td>Kanpur</td>\n",
       "      <td>IN006111</td>\n",
       "      <td>98</td>\n",
       "    </tr>\n",
       "  </tbody>\n",
       "</table>\n",
       "</div>"
      ],
      "text/plain": [
       "  serial_no First_name           Place    Job_Id Temperature\n",
       "1         2   Shraddha          Mumbai  IN006366          92\n",
       "2         3       sita  Greater kalash  IN006336          87\n",
       "3         4     shivam          Indore  IN005616          85\n",
       "4         5      sunny        Haldwani  IN006366          79\n",
       "5         6    radhika          Kanpur  IN006111          98"
      ]
     },
     "execution_count": 8,
     "metadata": {},
     "output_type": "execute_result"
    }
   ],
   "source": [
    "df.tail()  # This will print the last row"
   ]
  },
  {
   "cell_type": "code",
   "execution_count": 9,
   "id": "1ac66c24",
   "metadata": {},
   "outputs": [
    {
     "data": {
      "text/html": [
       "<div>\n",
       "<style scoped>\n",
       "    .dataframe tbody tr th:only-of-type {\n",
       "        vertical-align: middle;\n",
       "    }\n",
       "\n",
       "    .dataframe tbody tr th {\n",
       "        vertical-align: top;\n",
       "    }\n",
       "\n",
       "    .dataframe thead th {\n",
       "        text-align: right;\n",
       "    }\n",
       "</style>\n",
       "<table border=\"1\" class=\"dataframe\">\n",
       "  <thead>\n",
       "    <tr style=\"text-align: right;\">\n",
       "      <th></th>\n",
       "      <th>serial_no</th>\n",
       "      <th>First_name</th>\n",
       "      <th>Place</th>\n",
       "      <th>Job_Id</th>\n",
       "      <th>Temperature</th>\n",
       "    </tr>\n",
       "  </thead>\n",
       "  <tbody>\n",
       "    <tr>\n",
       "      <th>4</th>\n",
       "      <td>5</td>\n",
       "      <td>sunny</td>\n",
       "      <td>Haldwani</td>\n",
       "      <td>IN006366</td>\n",
       "      <td>79</td>\n",
       "    </tr>\n",
       "    <tr>\n",
       "      <th>5</th>\n",
       "      <td>6</td>\n",
       "      <td>radhika</td>\n",
       "      <td>Kanpur</td>\n",
       "      <td>IN006111</td>\n",
       "      <td>98</td>\n",
       "    </tr>\n",
       "  </tbody>\n",
       "</table>\n",
       "</div>"
      ],
      "text/plain": [
       "  serial_no First_name     Place    Job_Id Temperature\n",
       "4         5      sunny  Haldwani  IN006366          79\n",
       "5         6    radhika    Kanpur  IN006111          98"
      ]
     },
     "execution_count": 9,
     "metadata": {},
     "output_type": "execute_result"
    }
   ],
   "source": [
    "df.tail(2)  # This print last 2 required row or any you mention in tail()"
   ]
  },
  {
   "cell_type": "code",
   "execution_count": 10,
   "id": "04a82673",
   "metadata": {},
   "outputs": [
    {
     "data": {
      "text/html": [
       "<div>\n",
       "<style scoped>\n",
       "    .dataframe tbody tr th:only-of-type {\n",
       "        vertical-align: middle;\n",
       "    }\n",
       "\n",
       "    .dataframe tbody tr th {\n",
       "        vertical-align: top;\n",
       "    }\n",
       "\n",
       "    .dataframe thead th {\n",
       "        text-align: right;\n",
       "    }\n",
       "</style>\n",
       "<table border=\"1\" class=\"dataframe\">\n",
       "  <thead>\n",
       "    <tr style=\"text-align: right;\">\n",
       "      <th></th>\n",
       "      <th>serial_no</th>\n",
       "      <th>First_name</th>\n",
       "      <th>Place</th>\n",
       "      <th>Job_Id</th>\n",
       "      <th>Temperature</th>\n",
       "    </tr>\n",
       "  </thead>\n",
       "  <tbody>\n",
       "    <tr>\n",
       "      <th>2</th>\n",
       "      <td>3</td>\n",
       "      <td>sita</td>\n",
       "      <td>Greater kalash</td>\n",
       "      <td>IN006336</td>\n",
       "      <td>87</td>\n",
       "    </tr>\n",
       "    <tr>\n",
       "      <th>3</th>\n",
       "      <td>4</td>\n",
       "      <td>shivam</td>\n",
       "      <td>Indore</td>\n",
       "      <td>IN005616</td>\n",
       "      <td>85</td>\n",
       "    </tr>\n",
       "  </tbody>\n",
       "</table>\n",
       "</div>"
      ],
      "text/plain": [
       "  serial_no First_name           Place    Job_Id Temperature\n",
       "2         3       sita  Greater kalash  IN006336          87\n",
       "3         4     shivam          Indore  IN005616          85"
      ]
     },
     "execution_count": 10,
     "metadata": {},
     "output_type": "execute_result"
    }
   ],
   "source": [
    "df[2:4]  # slicing can be possibile "
   ]
  },
  {
   "cell_type": "code",
   "execution_count": 11,
   "id": "bda3de77",
   "metadata": {},
   "outputs": [
    {
     "data": {
      "text/html": [
       "<div>\n",
       "<style scoped>\n",
       "    .dataframe tbody tr th:only-of-type {\n",
       "        vertical-align: middle;\n",
       "    }\n",
       "\n",
       "    .dataframe tbody tr th {\n",
       "        vertical-align: top;\n",
       "    }\n",
       "\n",
       "    .dataframe thead th {\n",
       "        text-align: right;\n",
       "    }\n",
       "</style>\n",
       "<table border=\"1\" class=\"dataframe\">\n",
       "  <thead>\n",
       "    <tr style=\"text-align: right;\">\n",
       "      <th></th>\n",
       "      <th>serial_no</th>\n",
       "      <th>First_name</th>\n",
       "      <th>Place</th>\n",
       "      <th>Job_Id</th>\n",
       "      <th>Temperature</th>\n",
       "    </tr>\n",
       "  </thead>\n",
       "  <tbody>\n",
       "    <tr>\n",
       "      <th>0</th>\n",
       "      <td>1</td>\n",
       "      <td>Shivani</td>\n",
       "      <td>New Delhi</td>\n",
       "      <td>IN005626</td>\n",
       "      <td>80.2</td>\n",
       "    </tr>\n",
       "    <tr>\n",
       "      <th>1</th>\n",
       "      <td>2</td>\n",
       "      <td>Shraddha</td>\n",
       "      <td>Mumbai</td>\n",
       "      <td>IN006366</td>\n",
       "      <td>92</td>\n",
       "    </tr>\n",
       "    <tr>\n",
       "      <th>2</th>\n",
       "      <td>3</td>\n",
       "      <td>sita</td>\n",
       "      <td>Greater kalash</td>\n",
       "      <td>IN006336</td>\n",
       "      <td>87</td>\n",
       "    </tr>\n",
       "    <tr>\n",
       "      <th>3</th>\n",
       "      <td>4</td>\n",
       "      <td>shivam</td>\n",
       "      <td>Indore</td>\n",
       "      <td>IN005616</td>\n",
       "      <td>85</td>\n",
       "    </tr>\n",
       "    <tr>\n",
       "      <th>4</th>\n",
       "      <td>5</td>\n",
       "      <td>sunny</td>\n",
       "      <td>Haldwani</td>\n",
       "      <td>IN006366</td>\n",
       "      <td>79</td>\n",
       "    </tr>\n",
       "    <tr>\n",
       "      <th>5</th>\n",
       "      <td>6</td>\n",
       "      <td>radhika</td>\n",
       "      <td>Kanpur</td>\n",
       "      <td>IN006111</td>\n",
       "      <td>98</td>\n",
       "    </tr>\n",
       "  </tbody>\n",
       "</table>\n",
       "</div>"
      ],
      "text/plain": [
       "  serial_no First_name           Place    Job_Id Temperature\n",
       "0         1    Shivani       New Delhi  IN005626        80.2\n",
       "1         2   Shraddha          Mumbai  IN006366          92\n",
       "2         3       sita  Greater kalash  IN006336          87\n",
       "3         4     shivam          Indore  IN005616          85\n",
       "4         5      sunny        Haldwani  IN006366          79\n",
       "5         6    radhika          Kanpur  IN006111          98"
      ]
     },
     "execution_count": 11,
     "metadata": {},
     "output_type": "execute_result"
    }
   ],
   "source": [
    "df[:]"
   ]
  },
  {
   "cell_type": "code",
   "execution_count": 12,
   "id": "a2e156f1",
   "metadata": {},
   "outputs": [
    {
     "data": {
      "text/plain": [
       "Index(['serial_no', 'First_name', 'Place', 'Job_Id', 'Temperature'], dtype='object')"
      ]
     },
     "execution_count": 12,
     "metadata": {},
     "output_type": "execute_result"
    }
   ],
   "source": [
    "df.columns   # Shows the numbers of columns"
   ]
  },
  {
   "cell_type": "code",
   "execution_count": 13,
   "id": "bdcfa2cc",
   "metadata": {},
   "outputs": [
    {
     "data": {
      "text/plain": [
       "0     Shivani\n",
       "1    Shraddha\n",
       "2        sita\n",
       "3      shivam\n",
       "4       sunny\n",
       "5     radhika\n",
       "Name: First_name, dtype: object"
      ]
     },
     "execution_count": 13,
     "metadata": {},
     "output_type": "execute_result"
    }
   ],
   "source": [
    "df['First_name']"
   ]
  },
  {
   "cell_type": "code",
   "execution_count": 14,
   "id": "5c8c66a0",
   "metadata": {},
   "outputs": [
    {
     "data": {
      "text/plain": [
       "0     Shivani\n",
       "1    Shraddha\n",
       "2        sita\n",
       "3      shivam\n",
       "4       sunny\n",
       "5     radhika\n",
       "Name: First_name, dtype: object"
      ]
     },
     "execution_count": 14,
     "metadata": {},
     "output_type": "execute_result"
    }
   ],
   "source": [
    "df.First_name  # Can print what ever column you wish to print just type name or df['Place']"
   ]
  },
  {
   "cell_type": "code",
   "execution_count": 15,
   "id": "dc93b2f2",
   "metadata": {},
   "outputs": [
    {
     "data": {
      "text/plain": [
       "0         New Delhi\n",
       "1            Mumbai\n",
       "2    Greater kalash\n",
       "3            Indore\n",
       "4          Haldwani\n",
       "5            Kanpur\n",
       "Name: Place, dtype: object"
      ]
     },
     "execution_count": 15,
     "metadata": {},
     "output_type": "execute_result"
    }
   ],
   "source": [
    "df['Place']  # df.Place"
   ]
  },
  {
   "cell_type": "code",
   "execution_count": 16,
   "id": "4711fef5",
   "metadata": {},
   "outputs": [
    {
     "data": {
      "text/plain": [
       "pandas.core.series.Series"
      ]
     },
     "execution_count": 16,
     "metadata": {},
     "output_type": "execute_result"
    }
   ],
   "source": [
    "type(df.Place)   # To defined the type of data"
   ]
  },
  {
   "cell_type": "code",
   "execution_count": 17,
   "id": "43953339",
   "metadata": {},
   "outputs": [
    {
     "data": {
      "text/html": [
       "<div>\n",
       "<style scoped>\n",
       "    .dataframe tbody tr th:only-of-type {\n",
       "        vertical-align: middle;\n",
       "    }\n",
       "\n",
       "    .dataframe tbody tr th {\n",
       "        vertical-align: top;\n",
       "    }\n",
       "\n",
       "    .dataframe thead th {\n",
       "        text-align: right;\n",
       "    }\n",
       "</style>\n",
       "<table border=\"1\" class=\"dataframe\">\n",
       "  <thead>\n",
       "    <tr style=\"text-align: right;\">\n",
       "      <th></th>\n",
       "      <th>Job_Id</th>\n",
       "      <th>First_name</th>\n",
       "    </tr>\n",
       "  </thead>\n",
       "  <tbody>\n",
       "    <tr>\n",
       "      <th>0</th>\n",
       "      <td>IN005626</td>\n",
       "      <td>Shivani</td>\n",
       "    </tr>\n",
       "    <tr>\n",
       "      <th>1</th>\n",
       "      <td>IN006366</td>\n",
       "      <td>Shraddha</td>\n",
       "    </tr>\n",
       "    <tr>\n",
       "      <th>2</th>\n",
       "      <td>IN006336</td>\n",
       "      <td>sita</td>\n",
       "    </tr>\n",
       "    <tr>\n",
       "      <th>3</th>\n",
       "      <td>IN005616</td>\n",
       "      <td>shivam</td>\n",
       "    </tr>\n",
       "    <tr>\n",
       "      <th>4</th>\n",
       "      <td>IN006366</td>\n",
       "      <td>sunny</td>\n",
       "    </tr>\n",
       "    <tr>\n",
       "      <th>5</th>\n",
       "      <td>IN006111</td>\n",
       "      <td>radhika</td>\n",
       "    </tr>\n",
       "  </tbody>\n",
       "</table>\n",
       "</div>"
      ],
      "text/plain": [
       "     Job_Id First_name\n",
       "0  IN005626    Shivani\n",
       "1  IN006366   Shraddha\n",
       "2  IN006336       sita\n",
       "3  IN005616     shivam\n",
       "4  IN006366      sunny\n",
       "5  IN006111    radhika"
      ]
     },
     "execution_count": 17,
     "metadata": {},
     "output_type": "execute_result"
    }
   ],
   "source": [
    "df[['Job_Id','First_name']]  # If you wish to add two column in the dataframe "
   ]
  },
  {
   "cell_type": "code",
   "execution_count": 18,
   "id": "b28420d9",
   "metadata": {},
   "outputs": [
    {
     "data": {
      "text/plain": [
       "<bound method NDFrame._add_numeric_operations.<locals>.std of 0    80.2\n",
       "1      92\n",
       "2      87\n",
       "3      85\n",
       "4      79\n",
       "5      98\n",
       "Name: Temperature, dtype: object>"
      ]
     },
     "execution_count": 18,
     "metadata": {},
     "output_type": "execute_result"
    }
   ],
   "source": [
    "df['Temperature'].std"
   ]
  },
  {
   "cell_type": "code",
   "execution_count": 19,
   "id": "d4a2a51e",
   "metadata": {},
   "outputs": [
    {
     "data": {
      "text/html": [
       "<div>\n",
       "<style scoped>\n",
       "    .dataframe tbody tr th:only-of-type {\n",
       "        vertical-align: middle;\n",
       "    }\n",
       "\n",
       "    .dataframe tbody tr th {\n",
       "        vertical-align: top;\n",
       "    }\n",
       "\n",
       "    .dataframe thead th {\n",
       "        text-align: right;\n",
       "    }\n",
       "</style>\n",
       "<table border=\"1\" class=\"dataframe\">\n",
       "  <thead>\n",
       "    <tr style=\"text-align: right;\">\n",
       "      <th></th>\n",
       "      <th>serial_no</th>\n",
       "      <th>First_name</th>\n",
       "      <th>Place</th>\n",
       "      <th>Job_Id</th>\n",
       "      <th>Temperature</th>\n",
       "    </tr>\n",
       "  </thead>\n",
       "  <tbody>\n",
       "    <tr>\n",
       "      <th>count</th>\n",
       "      <td>6</td>\n",
       "      <td>6</td>\n",
       "      <td>6</td>\n",
       "      <td>6</td>\n",
       "      <td>6</td>\n",
       "    </tr>\n",
       "    <tr>\n",
       "      <th>unique</th>\n",
       "      <td>6</td>\n",
       "      <td>6</td>\n",
       "      <td>6</td>\n",
       "      <td>5</td>\n",
       "      <td>6</td>\n",
       "    </tr>\n",
       "    <tr>\n",
       "      <th>top</th>\n",
       "      <td>1</td>\n",
       "      <td>Shivani</td>\n",
       "      <td>New Delhi</td>\n",
       "      <td>IN006366</td>\n",
       "      <td>80.2</td>\n",
       "    </tr>\n",
       "    <tr>\n",
       "      <th>freq</th>\n",
       "      <td>1</td>\n",
       "      <td>1</td>\n",
       "      <td>1</td>\n",
       "      <td>2</td>\n",
       "      <td>1</td>\n",
       "    </tr>\n",
       "  </tbody>\n",
       "</table>\n",
       "</div>"
      ],
      "text/plain": [
       "       serial_no First_name      Place    Job_Id Temperature\n",
       "count          6          6          6         6           6\n",
       "unique         6          6          6         5           6\n",
       "top            1    Shivani  New Delhi  IN006366        80.2\n",
       "freq           1          1          1         2           1"
      ]
     },
     "execution_count": 19,
     "metadata": {},
     "output_type": "execute_result"
    }
   ],
   "source": [
    "df.describe()   # This will display the statistics and insite of the data"
   ]
  },
  {
   "cell_type": "code",
   "execution_count": 24,
   "id": "7f406c08",
   "metadata": {},
   "outputs": [
    {
     "data": {
      "text/html": [
       "<div>\n",
       "<style scoped>\n",
       "    .dataframe tbody tr th:only-of-type {\n",
       "        vertical-align: middle;\n",
       "    }\n",
       "\n",
       "    .dataframe tbody tr th {\n",
       "        vertical-align: top;\n",
       "    }\n",
       "\n",
       "    .dataframe thead th {\n",
       "        text-align: right;\n",
       "    }\n",
       "</style>\n",
       "<table border=\"1\" class=\"dataframe\">\n",
       "  <thead>\n",
       "    <tr style=\"text-align: right;\">\n",
       "      <th></th>\n",
       "      <th>count</th>\n",
       "      <th>unique</th>\n",
       "      <th>top</th>\n",
       "      <th>freq</th>\n",
       "    </tr>\n",
       "  </thead>\n",
       "  <tbody>\n",
       "    <tr>\n",
       "      <th>serial_no</th>\n",
       "      <td>6</td>\n",
       "      <td>6</td>\n",
       "      <td>1</td>\n",
       "      <td>1</td>\n",
       "    </tr>\n",
       "    <tr>\n",
       "      <th>First_name</th>\n",
       "      <td>6</td>\n",
       "      <td>6</td>\n",
       "      <td>Shivani</td>\n",
       "      <td>1</td>\n",
       "    </tr>\n",
       "    <tr>\n",
       "      <th>Place</th>\n",
       "      <td>6</td>\n",
       "      <td>6</td>\n",
       "      <td>New Delhi</td>\n",
       "      <td>1</td>\n",
       "    </tr>\n",
       "    <tr>\n",
       "      <th>Job_Id</th>\n",
       "      <td>6</td>\n",
       "      <td>5</td>\n",
       "      <td>IN006366</td>\n",
       "      <td>2</td>\n",
       "    </tr>\n",
       "    <tr>\n",
       "      <th>Temperature</th>\n",
       "      <td>6</td>\n",
       "      <td>6</td>\n",
       "      <td>80.2</td>\n",
       "      <td>1</td>\n",
       "    </tr>\n",
       "  </tbody>\n",
       "</table>\n",
       "</div>"
      ],
      "text/plain": [
       "            count unique        top freq\n",
       "serial_no       6      6          1    1\n",
       "First_name      6      6    Shivani    1\n",
       "Place           6      6  New Delhi    1\n",
       "Job_Id          6      5   IN006366    2\n",
       "Temperature     6      6       80.2    1"
      ]
     },
     "execution_count": 24,
     "metadata": {},
     "output_type": "execute_result"
    }
   ],
   "source": [
    "df.describe().transpose()"
   ]
  },
  {
   "cell_type": "code",
   "execution_count": 20,
   "id": "551c7c87",
   "metadata": {},
   "outputs": [
    {
     "data": {
      "text/plain": [
       "RangeIndex(start=0, stop=6, step=1)"
      ]
     },
     "execution_count": 20,
     "metadata": {},
     "output_type": "execute_result"
    }
   ],
   "source": [
    "df.index  # To find the index"
   ]
  },
  {
   "cell_type": "code",
   "execution_count": 21,
   "id": "b1262fe2",
   "metadata": {},
   "outputs": [
    {
     "data": {
      "text/plain": [
       "<bound method DataFrame.info of   serial_no First_name           Place    Job_Id Temperature\n",
       "0         1    Shivani       New Delhi  IN005626        80.2\n",
       "1         2   Shraddha          Mumbai  IN006366          92\n",
       "2         3       sita  Greater kalash  IN006336          87\n",
       "3         4     shivam          Indore  IN005616          85\n",
       "4         5      sunny        Haldwani  IN006366          79\n",
       "5         6    radhika          Kanpur  IN006111          98>"
      ]
     },
     "execution_count": 21,
     "metadata": {},
     "output_type": "execute_result"
    }
   ],
   "source": [
    "df.info"
   ]
  },
  {
   "cell_type": "code",
   "execution_count": 26,
   "id": "9a8910ce",
   "metadata": {},
   "outputs": [
    {
     "data": {
      "text/html": [
       "<div>\n",
       "<style scoped>\n",
       "    .dataframe tbody tr th:only-of-type {\n",
       "        vertical-align: middle;\n",
       "    }\n",
       "\n",
       "    .dataframe tbody tr th {\n",
       "        vertical-align: top;\n",
       "    }\n",
       "\n",
       "    .dataframe thead th {\n",
       "        text-align: right;\n",
       "    }\n",
       "</style>\n",
       "<table border=\"1\" class=\"dataframe\">\n",
       "  <thead>\n",
       "    <tr style=\"text-align: right;\">\n",
       "      <th></th>\n",
       "      <th>serial_no</th>\n",
       "      <th>First_name</th>\n",
       "      <th>Place</th>\n",
       "      <th>Job_Id</th>\n",
       "      <th>Temperature</th>\n",
       "    </tr>\n",
       "  </thead>\n",
       "  <tbody>\n",
       "    <tr>\n",
       "      <th>0</th>\n",
       "      <td>1</td>\n",
       "      <td>Shivani</td>\n",
       "      <td>New Delhi</td>\n",
       "      <td>IN005626</td>\n",
       "      <td>80.2</td>\n",
       "    </tr>\n",
       "    <tr>\n",
       "      <th>1</th>\n",
       "      <td>2</td>\n",
       "      <td>Shraddha</td>\n",
       "      <td>Mumbai</td>\n",
       "      <td>IN006366</td>\n",
       "      <td>92</td>\n",
       "    </tr>\n",
       "  </tbody>\n",
       "</table>\n",
       "</div>"
      ],
      "text/plain": [
       "  serial_no First_name      Place    Job_Id Temperature\n",
       "0         1    Shivani  New Delhi  IN005626        80.2\n",
       "1         2   Shraddha     Mumbai  IN006366          92"
      ]
     },
     "execution_count": 26,
     "metadata": {},
     "output_type": "execute_result"
    }
   ],
   "source": [
    "df.head(2)"
   ]
  },
  {
   "cell_type": "code",
   "execution_count": 33,
   "id": "1198ad53",
   "metadata": {},
   "outputs": [
    {
     "data": {
      "text/plain": [
       "0    80.2\n",
       "1      92\n",
       "2      87\n",
       "3      85\n",
       "4      79\n",
       "5      98\n",
       "Name: Temperature, dtype: object"
      ]
     },
     "execution_count": 33,
     "metadata": {},
     "output_type": "execute_result"
    }
   ],
   "source": [
    "X=df.Place\n",
    "y=df.Temperature"
   ]
  },
  {
   "cell_type": "code",
   "execution_count": null,
   "id": "b83e7378",
   "metadata": {},
   "outputs": [],
   "source": []
  }
 ],
 "metadata": {
  "kernelspec": {
   "display_name": "Python 3 (ipykernel)",
   "language": "python",
   "name": "python3"
  },
  "language_info": {
   "codemirror_mode": {
    "name": "ipython",
    "version": 3
   },
   "file_extension": ".py",
   "mimetype": "text/x-python",
   "name": "python",
   "nbconvert_exporter": "python",
   "pygments_lexer": "ipython3",
   "version": "3.9.12"
  }
 },
 "nbformat": 4,
 "nbformat_minor": 5
}
